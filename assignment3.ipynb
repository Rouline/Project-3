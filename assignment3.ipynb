{
 "cells": [
  {
   "cell_type": "code",
   "execution_count": 1,
   "metadata": {},
   "outputs": [
    {
     "name": "stdin",
     "output_type": "stream",
     "text": [
      "Enter first name:  Moses\n",
      "Enter last name:  Kasaine\n",
      "Enter customer's phone number:  0727598039\n",
      "Enter customer's email address:  moses@gmail.com\n"
     ]
    },
    {
     "name": "stdout",
     "output_type": "stream",
     "text": [
      "\n",
      "Full Names: Moses Kasaine\n",
      "Phone: 0727598039\n",
      "Email: moses@gmail.com\n",
      "Down Payment: 1000.00\n"
     ]
    }
   ],
   "source": [
    "#credit worthness of their customers\n",
    "fname = input(\"Enter first name: \")\n",
    "lname = input(\"Enter last name: \")\n",
    "fullnames = (fname + \" \" + lname)\n",
    "\n",
    "#phone and email details\n",
    "phone=input(\"Enter customer's phone number: \")\n",
    "email=input(\"Enter customer's email address: \")\n",
    "\n",
    "#Price of a used car\n",
    "price = 10000\n",
    "has_good_credit = True\n",
    "\n",
    "if has_good_credit:\n",
    "    down_payment = 0.1 * price\n",
    "else:\n",
    "    down_payment = 0.2 * price\n",
    "print()\n",
    "print(\"Full Names: \" + fullnames)\n",
    "print(\"Phone: \" + phone)\n",
    "print(\"Email: \" + email)\n",
    "print(f\"Down Payment: {'{:.2f}'.format(down_payment)}\")"
   ]
  },
  {
   "cell_type": "code",
   "execution_count": null,
   "metadata": {},
   "outputs": [],
   "source": []
  }
 ],
 "metadata": {
  "kernelspec": {
   "display_name": "Python 3",
   "language": "python",
   "name": "python3"
  },
  "language_info": {
   "codemirror_mode": {
    "name": "ipython",
    "version": 3
   },
   "file_extension": ".py",
   "mimetype": "text/x-python",
   "name": "python",
   "nbconvert_exporter": "python",
   "pygments_lexer": "ipython3",
   "version": "3.7.6"
  }
 },
 "nbformat": 4,
 "nbformat_minor": 4
}
